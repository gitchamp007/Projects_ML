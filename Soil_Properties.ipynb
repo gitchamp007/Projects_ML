{
  "metadata": {
    "kernelspec": {
      "language": "python",
      "display_name": "Python 3",
      "name": "python3"
    },
    "language_info": {
      "name": "python",
      "version": "3.10.12",
      "mimetype": "text/x-python",
      "codemirror_mode": {
        "name": "ipython",
        "version": 3
      },
      "pygments_lexer": "ipython3",
      "nbconvert_exporter": "python",
      "file_extension": ".py"
    },
    "colab": {
      "provenance": []
    }
  },
  "nbformat_minor": 0,
  "nbformat": 4,
  "cells": [
    {
      "cell_type": "code",
      "source": [
        "\n",
        "# Input data files are available in the read-only \"../input/\" directory\n",
        "# For example, running this (by clicking run or pressing Shift+Enter) will list all files under the input directory\n",
        "\n",
        "import os\n",
        "for dirname, _, filenames in os.walk('/kaggle/input'):\n",
        "    for filename in filenames:\n",
        "        print(os.path.join(dirname, filename))\n",
        "\n",
        "# You can write up to 20GB to the current directory (/kaggle/working/) that gets preserved as output when you create a version using \"Save & Run All\"\n",
        "# You can also write temporary files to /kaggle/temp/, but they won't be saved outside of the current session"
      ],
      "metadata": {
        "_uuid": "8f2839f25d086af736a60e9eeb907d3b93b6e0e5",
        "_cell_guid": "b1076dfc-b9ad-4769-8c92-a6c4dae69d19",
        "execution": {
          "iopub.status.busy": "2023-10-27T13:12:55.393144Z",
          "iopub.execute_input": "2023-10-27T13:12:55.393821Z",
          "iopub.status.idle": "2023-10-27T13:12:55.409927Z",
          "shell.execute_reply.started": "2023-10-27T13:12:55.393781Z",
          "shell.execute_reply": "2023-10-27T13:12:55.408953Z"
        },
        "trusted": true,
        "id": "e61e-f9qH3RA",
        "outputId": "174df388-f1b2-426c-890c-153203c58cc2"
      },
      "execution_count": null,
      "outputs": [
        {
          "name": "stdout",
          "text": "/kaggle/input/spark4ai-prediction/soil_dataset/sample_submission.csv\n/kaggle/input/spark4ai-prediction/soil_dataset/train.csv\n/kaggle/input/spark4ai-prediction/soil_dataset/test.csv\n",
          "output_type": "stream"
        }
      ]
    },
    {
      "cell_type": "code",
      "source": [
        "import pandas as pd\n",
        "import numpy as np\n",
        "import xgboost as xgb\n",
        "from sklearn.model_selection import train_test_split\n",
        "from sklearn.linear_model import LinearRegression\n",
        "from sklearn.ensemble import RandomForestRegressor\n",
        "from sklearn.metrics import mean_squared_error\n",
        "from math import sqrt"
      ],
      "metadata": {
        "execution": {
          "iopub.status.busy": "2023-10-27T13:13:50.682807Z",
          "iopub.execute_input": "2023-10-27T13:13:50.683704Z",
          "iopub.status.idle": "2023-10-27T13:13:50.689150Z",
          "shell.execute_reply.started": "2023-10-27T13:13:50.683664Z",
          "shell.execute_reply": "2023-10-27T13:13:50.687960Z"
        },
        "trusted": true,
        "id": "6sxC9al0H3RE"
      },
      "execution_count": null,
      "outputs": []
    },
    {
      "cell_type": "code",
      "source": [
        "df_train = pd.read_csv('/kaggle/input/spark4ai-prediction/soil_dataset/train.csv')\n",
        "df_test = pd.read_csv('/kaggle/input/spark4ai-prediction/soil_dataset/test.csv')"
      ],
      "metadata": {
        "execution": {
          "iopub.status.busy": "2023-10-27T14:17:07.668665Z",
          "iopub.execute_input": "2023-10-27T14:17:07.669583Z",
          "iopub.status.idle": "2023-10-27T14:17:08.066171Z",
          "shell.execute_reply.started": "2023-10-27T14:17:07.669541Z",
          "shell.execute_reply": "2023-10-27T14:17:08.065295Z"
        },
        "trusted": true,
        "id": "Hi_BmeKTH3RF"
      },
      "execution_count": null,
      "outputs": []
    },
    {
      "cell_type": "code",
      "source": [
        "df_train.head(10)"
      ],
      "metadata": {
        "execution": {
          "iopub.status.busy": "2023-10-27T13:58:20.432933Z",
          "iopub.execute_input": "2023-10-27T13:58:20.433592Z",
          "iopub.status.idle": "2023-10-27T13:58:20.465536Z",
          "shell.execute_reply.started": "2023-10-27T13:58:20.433559Z",
          "shell.execute_reply": "2023-10-27T13:58:20.464542Z"
        },
        "trusted": true,
        "id": "oW4yUJZFH3RF",
        "outputId": "096c5abe-6602-41ae-c96a-d355c6155356"
      },
      "execution_count": null,
      "outputs": [
        {
          "execution_count": 35,
          "output_type": "execute_result",
          "data": {
            "text/plain": "   Id  Property_A  Property_B  Property_C  Property_D  Property_E  Property_F  \\\n0   1        5.99    0.115797       1.638        49.0        19.0        32.0   \n1   2        5.15    0.183483       1.482        47.0        16.0        37.0   \n2   3        5.55    0.173130       1.404        50.0        20.0        30.0   \n3   4        5.09    0.196011       1.638        50.0        15.0        35.0   \n4   5        4.73    0.203319       1.677        53.0        19.0        28.0   \n5   6        4.75    0.243078       1.755        48.0        20.0        32.0   \n6   7        5.04    0.201579       1.638        53.0        19.0        28.0   \n7   8        5.21    0.247863       1.794        45.0        17.0        38.0   \n8   9        5.19    0.175305       1.677        50.0        15.0        35.0   \n9  10        5.17    0.198882       1.521        49.0        16.0        35.0   \n\n             A             B            C  ...   2491 nm   2492 nm   2493 nm  \\\n0  101745.99750  292211.0199  38816.97313  ...  0.385093  0.384933  0.384977   \n1  105712.64020  315908.0751  39888.72776  ...  0.404990  0.405053  0.405617   \n2  102621.33090  304334.3675  42120.98104  ...  0.397750  0.397417  0.397273   \n3  113446.28810  311356.2657  39195.84181  ...  0.382153  0.382130  0.382580   \n4  109714.60330  322110.4501  38347.65382  ...  0.416157  0.416683  0.417567   \n5   91440.09771  306100.1273  38980.80823  ...  0.433190  0.433410  0.434183   \n6  107607.66030  311366.1395  40291.48906  ...  0.406410  0.406193  0.405853   \n7  101776.71090  288458.9862  38764.06804  ...  0.378983  0.379943  0.381267   \n8  103416.80940  278716.8635  37147.90302  ...  0.341433  0.341167  0.340957   \n9  109283.07930  304174.7415  39858.00868  ...  0.367893  0.367960  0.368313   \n\n    2494 nm   2495 nm   2496 nm   2497 nm   2498 nm   2499 nm   2500 nm  \n0  0.385273  0.385507  0.384700  0.383193  0.382067  0.381257  0.381013  \n1  0.406607  0.407490  0.406543  0.404393  0.403207  0.402917  0.402393  \n2  0.397140  0.397013  0.396677  0.396240  0.396140  0.396370  0.397213  \n3  0.383233  0.383877  0.383550  0.382607  0.382263  0.382473  0.382533  \n4  0.417703  0.417420  0.416463  0.415003  0.414080  0.413637  0.413687  \n5  0.434707  0.434990  0.434143  0.432543  0.431837  0.431957  0.432500  \n6  0.405113  0.404200  0.403337  0.402570  0.402697  0.403703  0.405377  \n7  0.381450  0.380993  0.379630  0.377633  0.376960  0.377580  0.377690  \n8  0.340717  0.340417  0.339770  0.338950  0.338827  0.339363  0.340823  \n9  0.368577  0.368680  0.367923  0.366623  0.366247  0.366737  0.367930  \n\n[10 rows x 2174 columns]",
            "text/html": "<div>\n<style scoped>\n    .dataframe tbody tr th:only-of-type {\n        vertical-align: middle;\n    }\n\n    .dataframe tbody tr th {\n        vertical-align: top;\n    }\n\n    .dataframe thead th {\n        text-align: right;\n    }\n</style>\n<table border=\"1\" class=\"dataframe\">\n  <thead>\n    <tr style=\"text-align: right;\">\n      <th></th>\n      <th>Id</th>\n      <th>Property_A</th>\n      <th>Property_B</th>\n      <th>Property_C</th>\n      <th>Property_D</th>\n      <th>Property_E</th>\n      <th>Property_F</th>\n      <th>A</th>\n      <th>B</th>\n      <th>C</th>\n      <th>...</th>\n      <th>2491 nm</th>\n      <th>2492 nm</th>\n      <th>2493 nm</th>\n      <th>2494 nm</th>\n      <th>2495 nm</th>\n      <th>2496 nm</th>\n      <th>2497 nm</th>\n      <th>2498 nm</th>\n      <th>2499 nm</th>\n      <th>2500 nm</th>\n    </tr>\n  </thead>\n  <tbody>\n    <tr>\n      <th>0</th>\n      <td>1</td>\n      <td>5.99</td>\n      <td>0.115797</td>\n      <td>1.638</td>\n      <td>49.0</td>\n      <td>19.0</td>\n      <td>32.0</td>\n      <td>101745.99750</td>\n      <td>292211.0199</td>\n      <td>38816.97313</td>\n      <td>...</td>\n      <td>0.385093</td>\n      <td>0.384933</td>\n      <td>0.384977</td>\n      <td>0.385273</td>\n      <td>0.385507</td>\n      <td>0.384700</td>\n      <td>0.383193</td>\n      <td>0.382067</td>\n      <td>0.381257</td>\n      <td>0.381013</td>\n    </tr>\n    <tr>\n      <th>1</th>\n      <td>2</td>\n      <td>5.15</td>\n      <td>0.183483</td>\n      <td>1.482</td>\n      <td>47.0</td>\n      <td>16.0</td>\n      <td>37.0</td>\n      <td>105712.64020</td>\n      <td>315908.0751</td>\n      <td>39888.72776</td>\n      <td>...</td>\n      <td>0.404990</td>\n      <td>0.405053</td>\n      <td>0.405617</td>\n      <td>0.406607</td>\n      <td>0.407490</td>\n      <td>0.406543</td>\n      <td>0.404393</td>\n      <td>0.403207</td>\n      <td>0.402917</td>\n      <td>0.402393</td>\n    </tr>\n    <tr>\n      <th>2</th>\n      <td>3</td>\n      <td>5.55</td>\n      <td>0.173130</td>\n      <td>1.404</td>\n      <td>50.0</td>\n      <td>20.0</td>\n      <td>30.0</td>\n      <td>102621.33090</td>\n      <td>304334.3675</td>\n      <td>42120.98104</td>\n      <td>...</td>\n      <td>0.397750</td>\n      <td>0.397417</td>\n      <td>0.397273</td>\n      <td>0.397140</td>\n      <td>0.397013</td>\n      <td>0.396677</td>\n      <td>0.396240</td>\n      <td>0.396140</td>\n      <td>0.396370</td>\n      <td>0.397213</td>\n    </tr>\n    <tr>\n      <th>3</th>\n      <td>4</td>\n      <td>5.09</td>\n      <td>0.196011</td>\n      <td>1.638</td>\n      <td>50.0</td>\n      <td>15.0</td>\n      <td>35.0</td>\n      <td>113446.28810</td>\n      <td>311356.2657</td>\n      <td>39195.84181</td>\n      <td>...</td>\n      <td>0.382153</td>\n      <td>0.382130</td>\n      <td>0.382580</td>\n      <td>0.383233</td>\n      <td>0.383877</td>\n      <td>0.383550</td>\n      <td>0.382607</td>\n      <td>0.382263</td>\n      <td>0.382473</td>\n      <td>0.382533</td>\n    </tr>\n    <tr>\n      <th>4</th>\n      <td>5</td>\n      <td>4.73</td>\n      <td>0.203319</td>\n      <td>1.677</td>\n      <td>53.0</td>\n      <td>19.0</td>\n      <td>28.0</td>\n      <td>109714.60330</td>\n      <td>322110.4501</td>\n      <td>38347.65382</td>\n      <td>...</td>\n      <td>0.416157</td>\n      <td>0.416683</td>\n      <td>0.417567</td>\n      <td>0.417703</td>\n      <td>0.417420</td>\n      <td>0.416463</td>\n      <td>0.415003</td>\n      <td>0.414080</td>\n      <td>0.413637</td>\n      <td>0.413687</td>\n    </tr>\n    <tr>\n      <th>5</th>\n      <td>6</td>\n      <td>4.75</td>\n      <td>0.243078</td>\n      <td>1.755</td>\n      <td>48.0</td>\n      <td>20.0</td>\n      <td>32.0</td>\n      <td>91440.09771</td>\n      <td>306100.1273</td>\n      <td>38980.80823</td>\n      <td>...</td>\n      <td>0.433190</td>\n      <td>0.433410</td>\n      <td>0.434183</td>\n      <td>0.434707</td>\n      <td>0.434990</td>\n      <td>0.434143</td>\n      <td>0.432543</td>\n      <td>0.431837</td>\n      <td>0.431957</td>\n      <td>0.432500</td>\n    </tr>\n    <tr>\n      <th>6</th>\n      <td>7</td>\n      <td>5.04</td>\n      <td>0.201579</td>\n      <td>1.638</td>\n      <td>53.0</td>\n      <td>19.0</td>\n      <td>28.0</td>\n      <td>107607.66030</td>\n      <td>311366.1395</td>\n      <td>40291.48906</td>\n      <td>...</td>\n      <td>0.406410</td>\n      <td>0.406193</td>\n      <td>0.405853</td>\n      <td>0.405113</td>\n      <td>0.404200</td>\n      <td>0.403337</td>\n      <td>0.402570</td>\n      <td>0.402697</td>\n      <td>0.403703</td>\n      <td>0.405377</td>\n    </tr>\n    <tr>\n      <th>7</th>\n      <td>8</td>\n      <td>5.21</td>\n      <td>0.247863</td>\n      <td>1.794</td>\n      <td>45.0</td>\n      <td>17.0</td>\n      <td>38.0</td>\n      <td>101776.71090</td>\n      <td>288458.9862</td>\n      <td>38764.06804</td>\n      <td>...</td>\n      <td>0.378983</td>\n      <td>0.379943</td>\n      <td>0.381267</td>\n      <td>0.381450</td>\n      <td>0.380993</td>\n      <td>0.379630</td>\n      <td>0.377633</td>\n      <td>0.376960</td>\n      <td>0.377580</td>\n      <td>0.377690</td>\n    </tr>\n    <tr>\n      <th>8</th>\n      <td>9</td>\n      <td>5.19</td>\n      <td>0.175305</td>\n      <td>1.677</td>\n      <td>50.0</td>\n      <td>15.0</td>\n      <td>35.0</td>\n      <td>103416.80940</td>\n      <td>278716.8635</td>\n      <td>37147.90302</td>\n      <td>...</td>\n      <td>0.341433</td>\n      <td>0.341167</td>\n      <td>0.340957</td>\n      <td>0.340717</td>\n      <td>0.340417</td>\n      <td>0.339770</td>\n      <td>0.338950</td>\n      <td>0.338827</td>\n      <td>0.339363</td>\n      <td>0.340823</td>\n    </tr>\n    <tr>\n      <th>9</th>\n      <td>10</td>\n      <td>5.17</td>\n      <td>0.198882</td>\n      <td>1.521</td>\n      <td>49.0</td>\n      <td>16.0</td>\n      <td>35.0</td>\n      <td>109283.07930</td>\n      <td>304174.7415</td>\n      <td>39858.00868</td>\n      <td>...</td>\n      <td>0.367893</td>\n      <td>0.367960</td>\n      <td>0.368313</td>\n      <td>0.368577</td>\n      <td>0.368680</td>\n      <td>0.367923</td>\n      <td>0.366623</td>\n      <td>0.366247</td>\n      <td>0.366737</td>\n      <td>0.367930</td>\n    </tr>\n  </tbody>\n</table>\n<p>10 rows × 2174 columns</p>\n</div>"
          },
          "metadata": {}
        }
      ]
    },
    {
      "cell_type": "code",
      "source": [
        "# I first checked for any empty cell\n",
        "#emt_col store the number of cells in each row\n",
        "emt_col = df_train.isnull().sum()\n",
        "\n",
        "#Then I calculated tot_val for the total empty cells in the data\n",
        "tot_val = emt_col.sum()\n",
        "\n",
        "print(emt_col)\n",
        "print(tot_val)"
      ],
      "metadata": {
        "execution": {
          "iopub.status.busy": "2023-10-27T13:58:21.510478Z",
          "iopub.execute_input": "2023-10-27T13:58:21.510848Z",
          "iopub.status.idle": "2023-10-27T13:58:21.522033Z",
          "shell.execute_reply.started": "2023-10-27T13:58:21.510817Z",
          "shell.execute_reply": "2023-10-27T13:58:21.521073Z"
        },
        "trusted": true,
        "id": "c82dTZT7H3RF",
        "outputId": "7debcab2-6443-46a5-d81a-7a5829db3a4c"
      },
      "execution_count": null,
      "outputs": [
        {
          "name": "stdout",
          "text": "Id            0\nProperty_A    0\nProperty_B    0\nProperty_C    0\nProperty_D    0\n             ..\n2496 nm       0\n2497 nm       0\n2498 nm       0\n2499 nm       0\n2500 nm       0\nLength: 2174, dtype: int64\n0\n",
          "output_type": "stream"
        }
      ]
    },
    {
      "cell_type": "code",
      "source": [
        "'''Since the total value is 0 there is no need to fill any cell as there are no empty cell\n",
        "After this, there were a lot a features from sensor 2 and their values were kinda of\n",
        "same(from ovservation) so then I checked for correlation between the features and removed\n",
        "the features which were highly correlated'''"
      ],
      "metadata": {
        "id": "XCcs61lfH3RG"
      },
      "execution_count": null,
      "outputs": []
    },
    {
      "cell_type": "code",
      "source": [
        "# X = df_train.iloc[:,7:]\n",
        "# corr_matrix = X.corr()\n",
        "\n",
        "# #defining the threshold. I initially took 0.8 then I took 0.9 (gave the same result)\n",
        "# corr_thresh = 0.9\n",
        "\n",
        "# #finding and storing the correlated features\n",
        "# corr_ftrs = set()\n",
        "# for i in range(len(corr_matrix.columns)):\n",
        "#     for j in range(i):\n",
        "#         if abs(corr_matrix.iloc[i, j]) >= corr_thresh:\n",
        "#             colname = corr_matrix.columns[i]\n",
        "#             corr_ftrs.add(colname)\n",
        "\n",
        "# #Then I removed the correlated features\n",
        "# X = X.drop(columns=corr_ftrs)\n"
      ],
      "metadata": {
        "execution": {
          "iopub.status.busy": "2023-10-27T13:58:31.101592Z",
          "iopub.execute_input": "2023-10-27T13:58:31.102755Z",
          "iopub.status.idle": "2023-10-27T13:59:49.311250Z",
          "shell.execute_reply.started": "2023-10-27T13:58:31.102708Z",
          "shell.execute_reply": "2023-10-27T13:59:49.310151Z"
        },
        "trusted": true,
        "id": "W5HUrHFgH3RG"
      },
      "execution_count": null,
      "outputs": []
    },
    {
      "cell_type": "code",
      "source": [
        "from sklearn.decomposition import PCA\n",
        "\n",
        "X = df_train.iloc[:,7:]\n",
        "pca = PCA(n_components=17)\n",
        "pca.fit(X)\n",
        "X = pca.transform(X)"
      ],
      "metadata": {
        "id": "yRL9iNx3Jdg-"
      },
      "execution_count": null,
      "outputs": []
    },
    {
      "cell_type": "code",
      "source": [
        "#From this we can say that all the features from sensor2 were highly correlated"
      ],
      "metadata": {
        "id": "BQflcpnrH3RH"
      },
      "execution_count": null,
      "outputs": []
    },
    {
      "cell_type": "code",
      "source": [
        "#taking all the targets in y\n",
        "y = df_train.iloc[:,1:7]\n",
        "print(y)"
      ],
      "metadata": {
        "execution": {
          "iopub.status.busy": "2023-10-27T14:41:44.536033Z",
          "iopub.execute_input": "2023-10-27T14:41:44.537008Z",
          "iopub.status.idle": "2023-10-27T14:41:44.548039Z",
          "shell.execute_reply.started": "2023-10-27T14:41:44.536973Z",
          "shell.execute_reply": "2023-10-27T14:41:44.546869Z"
        },
        "trusted": true,
        "id": "DTZtcMkPH3RI",
        "outputId": "47fe14c5-8258-492b-8d47-d9447d5b3738"
      },
      "execution_count": null,
      "outputs": [
        {
          "name": "stdout",
          "text": "     Property_A  Property_B  Property_C  Property_D  Property_E  Property_F\n0          5.99    0.115797       1.638        49.0        19.0        32.0\n1          5.15    0.183483       1.482        47.0        16.0        37.0\n2          5.55    0.173130       1.404        50.0        20.0        30.0\n3          5.09    0.196011       1.638        50.0        15.0        35.0\n4          4.73    0.203319       1.677        53.0        19.0        28.0\n..          ...         ...         ...         ...         ...         ...\n245        5.10    1.550000       0.980         0.5        57.1        42.2\n246        4.90    3.090000       1.060         5.1        59.6        35.3\n247        4.90    0.620000       0.860         0.1        57.5        42.4\n248        5.10    2.960000       0.850         1.9        68.8        29.3\n249        5.40    2.060000       1.010         0.7        64.8        34.5\n\n[250 rows x 6 columns]\n",
          "output_type": "stream"
        }
      ]
    },
    {
      "cell_type": "code",
      "source": [
        "#split the data into train and test to find the RMSE"
      ],
      "metadata": {
        "id": "3Oy1Hp5wH3RI"
      },
      "execution_count": null,
      "outputs": []
    },
    {
      "cell_type": "code",
      "source": [
        "X_train, X_test, y_train, y_test = train_test_split(X, y, test_size=0.3, random_state=42)"
      ],
      "metadata": {
        "execution": {
          "iopub.status.busy": "2023-10-27T14:41:46.582780Z",
          "iopub.execute_input": "2023-10-27T14:41:46.583149Z",
          "iopub.status.idle": "2023-10-27T14:41:46.591001Z",
          "shell.execute_reply.started": "2023-10-27T14:41:46.583117Z",
          "shell.execute_reply": "2023-10-27T14:41:46.589938Z"
        },
        "trusted": true,
        "id": "c9CjMAbkH3RI"
      },
      "execution_count": null,
      "outputs": []
    },
    {
      "cell_type": "code",
      "source": [
        "#Tried to apply basic ensemble using average of three models\n",
        "#Trained the model and saved the predictions"
      ],
      "metadata": {
        "id": "nPe7BCnCH3RI"
      },
      "execution_count": null,
      "outputs": []
    },
    {
      "cell_type": "code",
      "source": [
        "model = LinearRegression()\n",
        "model.fit(X_train, y_train)\n",
        "prediction1 = model.predict(X_test)"
      ],
      "metadata": {
        "execution": {
          "iopub.status.busy": "2023-10-27T14:42:05.415434Z",
          "iopub.execute_input": "2023-10-27T14:42:05.415843Z",
          "iopub.status.idle": "2023-10-27T14:42:05.430487Z",
          "shell.execute_reply.started": "2023-10-27T14:42:05.415802Z",
          "shell.execute_reply": "2023-10-27T14:42:05.429431Z"
        },
        "trusted": true,
        "id": "iWSGckFcH3RJ"
      },
      "execution_count": null,
      "outputs": []
    },
    {
      "cell_type": "code",
      "source": [
        "model = RandomForestRegressor(n_estimators=100, random_state=42)\n",
        "model.fit(X_train, y_train)\n",
        "prediction2 = model.predict(X_test)"
      ],
      "metadata": {
        "execution": {
          "iopub.status.busy": "2023-10-27T14:42:05.956058Z",
          "iopub.execute_input": "2023-10-27T14:42:05.956425Z",
          "iopub.status.idle": "2023-10-27T14:42:06.296001Z",
          "shell.execute_reply.started": "2023-10-27T14:42:05.956395Z",
          "shell.execute_reply": "2023-10-27T14:42:06.295120Z"
        },
        "trusted": true,
        "id": "kZNS0asvH3RJ"
      },
      "execution_count": null,
      "outputs": []
    },
    {
      "cell_type": "code",
      "source": [
        "model = xgb.XGBRegressor(objective='reg:squarederror', n_estimators=100, random_state=42)\n",
        "model.fit(X_train, y_train)\n",
        "prediction3 = model.predict(X_test)"
      ],
      "metadata": {
        "execution": {
          "iopub.status.busy": "2023-10-27T14:42:06.624008Z",
          "iopub.execute_input": "2023-10-27T14:42:06.624369Z",
          "iopub.status.idle": "2023-10-27T14:42:06.969037Z",
          "shell.execute_reply.started": "2023-10-27T14:42:06.624340Z",
          "shell.execute_reply": "2023-10-27T14:42:06.968225Z"
        },
        "trusted": true,
        "id": "6E8QjbVXH3RJ"
      },
      "execution_count": null,
      "outputs": []
    },
    {
      "cell_type": "code",
      "source": [
        "predictions = (prediction1 + prediction2 + prediction3)/3"
      ],
      "metadata": {
        "execution": {
          "iopub.status.busy": "2023-10-27T14:42:54.167924Z",
          "iopub.execute_input": "2023-10-27T14:42:54.168310Z",
          "iopub.status.idle": "2023-10-27T14:42:54.173581Z",
          "shell.execute_reply.started": "2023-10-27T14:42:54.168279Z",
          "shell.execute_reply": "2023-10-27T14:42:54.172473Z"
        },
        "trusted": true,
        "id": "G4GWC8TMH3RJ"
      },
      "execution_count": null,
      "outputs": []
    },
    {
      "cell_type": "code",
      "source": [
        "rmse = sqrt(mean_squared_error(y_test, predictions))\n",
        "print(\"Root Mean Squared Error (RMSE):\", rmse)"
      ],
      "metadata": {
        "id": "FNXTNUZZICao"
      },
      "execution_count": null,
      "outputs": []
    },
    {
      "cell_type": "code",
      "source": [
        "#RMSE is acceptable so now I trained all the models on the whole data without splitting in test/train"
      ],
      "metadata": {
        "execution": {
          "iopub.status.busy": "2023-10-27T14:34:29.366772Z",
          "iopub.execute_input": "2023-10-27T14:34:29.367093Z",
          "iopub.status.idle": "2023-10-27T14:34:29.371469Z",
          "shell.execute_reply.started": "2023-10-27T14:34:29.367069Z",
          "shell.execute_reply": "2023-10-27T14:34:29.370511Z"
        },
        "trusted": true,
        "id": "q2GPRAFUH3RJ"
      },
      "execution_count": null,
      "outputs": []
    },
    {
      "cell_type": "code",
      "source": [
        "X_train = X\n",
        "y_train = y"
      ],
      "metadata": {
        "execution": {
          "iopub.status.busy": "2023-10-27T14:42:58.781731Z",
          "iopub.execute_input": "2023-10-27T14:42:58.782212Z",
          "iopub.status.idle": "2023-10-27T14:42:58.786590Z",
          "shell.execute_reply.started": "2023-10-27T14:42:58.782165Z",
          "shell.execute_reply": "2023-10-27T14:42:58.785592Z"
        },
        "trusted": true,
        "id": "-RI10AEVH3RJ"
      },
      "execution_count": null,
      "outputs": []
    },
    {
      "cell_type": "code",
      "source": [
        "df_test"
      ],
      "metadata": {
        "execution": {
          "iopub.status.busy": "2023-10-27T14:43:03.787352Z",
          "iopub.execute_input": "2023-10-27T14:43:03.787759Z",
          "iopub.status.idle": "2023-10-27T14:43:03.821925Z",
          "shell.execute_reply.started": "2023-10-27T14:43:03.787726Z",
          "shell.execute_reply": "2023-10-27T14:43:03.820781Z"
        },
        "trusted": true,
        "id": "oxXrJGWMH3RJ",
        "outputId": "d03a4c7a-864c-405b-9a89-e0e689774e58"
      },
      "execution_count": null,
      "outputs": [
        {
          "execution_count": 124,
          "output_type": "execute_result",
          "data": {
            "text/plain": "      Id            A             B            C            D           E  \\\n0      1  111184.24210  346946.2804  43356.57078  5164.670838  163.384072   \n1      2  105506.86000  309880.1367  44501.70988  5223.016492  173.993427   \n2      3  113968.41680  336280.9600  44737.22285  5121.451835  169.749685   \n3      4   89953.56650  361447.5617  38306.69505  4831.884516  146.409103   \n4      5  107285.16910  319862.5212  45049.53351  5219.775066  163.384072   \n..   ...           ...          ...          ...          ...         ...   \n96    97   86544.37301  326991.3852  30241.22945  4926.966322  167.627814   \n97    98   97208.08453  355238.6041  28524.37410  5143.061336  163.384072   \n98    99   79851.91120  349803.0921  31106.48359  5743.805476  135.799748   \n99   100   98562.54788  359232.5453  26618.08441  5051.220955  135.799748   \n100  101   90976.32454  354272.6200  29247.97914  4825.401666  167.627814   \n\n              F           G            H          I  ...   2491 nm   2492 nm  \\\n0    109.192843  461.122552  45783.17392  49.689130  ...  0.390053  0.390647   \n1     94.721502  317.640213  50907.18706  43.586957  ...  0.394680  0.395323   \n2    101.299384  266.184478  46709.86895  49.689130  ...  0.396113  0.395733   \n3     74.987856  271.132144  33103.54427  28.767391  ...  0.446693  0.446783   \n4    115.770725  307.744879  48222.54600  44.458696  ...  0.349563  0.348673   \n..          ...         ...          ...        ...  ...       ...       ...   \n96    68.409974  648.144360  24916.44335  25.280435  ...  0.316780  0.315620   \n97    82.881314  628.353692  26068.43071  30.510870  ...  0.280483  0.279843   \n98    56.569786  398.781950  22224.03359  22.665217  ...  0.294737  0.294613   \n99    89.459196  527.421288  26646.64402  32.254348  ...  0.297890  0.297577   \n100   56.569786  534.348022  26270.41694  22.665217  ...  0.311557  0.311003   \n\n      2493 nm   2494 nm   2495 nm   2496 nm   2497 nm   2498 nm   2499 nm  \\\n0    0.391547  0.391620  0.391353  0.391007  0.390543  0.390117  0.389720   \n1    0.396040  0.395467  0.394440  0.393930  0.393730  0.393800  0.394157   \n2    0.395470  0.394950  0.394390  0.394030  0.393823  0.393937  0.394363   \n3    0.447223  0.447357  0.447360  0.447080  0.446593  0.446193  0.445857   \n4    0.348093  0.348110  0.348467  0.348823  0.349217  0.349270  0.348963   \n..        ...       ...       ...       ...       ...       ...       ...   \n96   0.314637  0.314143  0.313890  0.313427  0.312940  0.313147  0.314017   \n97   0.279640  0.279717  0.279877  0.279400  0.278517  0.277797  0.277193   \n98   0.294897  0.295330  0.295707  0.295100  0.293843  0.293060  0.292703   \n99   0.297727  0.298143  0.298627  0.298403  0.297723  0.297373  0.297323   \n100  0.310773  0.311040  0.311480  0.311333  0.310837  0.310460  0.310147   \n\n      2500 nm  \n0    0.389410  \n1    0.395083  \n2    0.395190  \n3    0.445790  \n4    0.349193  \n..        ...  \n96   0.315663  \n97   0.277050  \n98   0.292727  \n99   0.297500  \n100  0.310750  \n\n[101 rows x 2168 columns]",
            "text/html": "<div>\n<style scoped>\n    .dataframe tbody tr th:only-of-type {\n        vertical-align: middle;\n    }\n\n    .dataframe tbody tr th {\n        vertical-align: top;\n    }\n\n    .dataframe thead th {\n        text-align: right;\n    }\n</style>\n<table border=\"1\" class=\"dataframe\">\n  <thead>\n    <tr style=\"text-align: right;\">\n      <th></th>\n      <th>Id</th>\n      <th>A</th>\n      <th>B</th>\n      <th>C</th>\n      <th>D</th>\n      <th>E</th>\n      <th>F</th>\n      <th>G</th>\n      <th>H</th>\n      <th>I</th>\n      <th>...</th>\n      <th>2491 nm</th>\n      <th>2492 nm</th>\n      <th>2493 nm</th>\n      <th>2494 nm</th>\n      <th>2495 nm</th>\n      <th>2496 nm</th>\n      <th>2497 nm</th>\n      <th>2498 nm</th>\n      <th>2499 nm</th>\n      <th>2500 nm</th>\n    </tr>\n  </thead>\n  <tbody>\n    <tr>\n      <th>0</th>\n      <td>1</td>\n      <td>111184.24210</td>\n      <td>346946.2804</td>\n      <td>43356.57078</td>\n      <td>5164.670838</td>\n      <td>163.384072</td>\n      <td>109.192843</td>\n      <td>461.122552</td>\n      <td>45783.17392</td>\n      <td>49.689130</td>\n      <td>...</td>\n      <td>0.390053</td>\n      <td>0.390647</td>\n      <td>0.391547</td>\n      <td>0.391620</td>\n      <td>0.391353</td>\n      <td>0.391007</td>\n      <td>0.390543</td>\n      <td>0.390117</td>\n      <td>0.389720</td>\n      <td>0.389410</td>\n    </tr>\n    <tr>\n      <th>1</th>\n      <td>2</td>\n      <td>105506.86000</td>\n      <td>309880.1367</td>\n      <td>44501.70988</td>\n      <td>5223.016492</td>\n      <td>173.993427</td>\n      <td>94.721502</td>\n      <td>317.640213</td>\n      <td>50907.18706</td>\n      <td>43.586957</td>\n      <td>...</td>\n      <td>0.394680</td>\n      <td>0.395323</td>\n      <td>0.396040</td>\n      <td>0.395467</td>\n      <td>0.394440</td>\n      <td>0.393930</td>\n      <td>0.393730</td>\n      <td>0.393800</td>\n      <td>0.394157</td>\n      <td>0.395083</td>\n    </tr>\n    <tr>\n      <th>2</th>\n      <td>3</td>\n      <td>113968.41680</td>\n      <td>336280.9600</td>\n      <td>44737.22285</td>\n      <td>5121.451835</td>\n      <td>169.749685</td>\n      <td>101.299384</td>\n      <td>266.184478</td>\n      <td>46709.86895</td>\n      <td>49.689130</td>\n      <td>...</td>\n      <td>0.396113</td>\n      <td>0.395733</td>\n      <td>0.395470</td>\n      <td>0.394950</td>\n      <td>0.394390</td>\n      <td>0.394030</td>\n      <td>0.393823</td>\n      <td>0.393937</td>\n      <td>0.394363</td>\n      <td>0.395190</td>\n    </tr>\n    <tr>\n      <th>3</th>\n      <td>4</td>\n      <td>89953.56650</td>\n      <td>361447.5617</td>\n      <td>38306.69505</td>\n      <td>4831.884516</td>\n      <td>146.409103</td>\n      <td>74.987856</td>\n      <td>271.132144</td>\n      <td>33103.54427</td>\n      <td>28.767391</td>\n      <td>...</td>\n      <td>0.446693</td>\n      <td>0.446783</td>\n      <td>0.447223</td>\n      <td>0.447357</td>\n      <td>0.447360</td>\n      <td>0.447080</td>\n      <td>0.446593</td>\n      <td>0.446193</td>\n      <td>0.445857</td>\n      <td>0.445790</td>\n    </tr>\n    <tr>\n      <th>4</th>\n      <td>5</td>\n      <td>107285.16910</td>\n      <td>319862.5212</td>\n      <td>45049.53351</td>\n      <td>5219.775066</td>\n      <td>163.384072</td>\n      <td>115.770725</td>\n      <td>307.744879</td>\n      <td>48222.54600</td>\n      <td>44.458696</td>\n      <td>...</td>\n      <td>0.349563</td>\n      <td>0.348673</td>\n      <td>0.348093</td>\n      <td>0.348110</td>\n      <td>0.348467</td>\n      <td>0.348823</td>\n      <td>0.349217</td>\n      <td>0.349270</td>\n      <td>0.348963</td>\n      <td>0.349193</td>\n    </tr>\n    <tr>\n      <th>...</th>\n      <td>...</td>\n      <td>...</td>\n      <td>...</td>\n      <td>...</td>\n      <td>...</td>\n      <td>...</td>\n      <td>...</td>\n      <td>...</td>\n      <td>...</td>\n      <td>...</td>\n      <td>...</td>\n      <td>...</td>\n      <td>...</td>\n      <td>...</td>\n      <td>...</td>\n      <td>...</td>\n      <td>...</td>\n      <td>...</td>\n      <td>...</td>\n      <td>...</td>\n      <td>...</td>\n    </tr>\n    <tr>\n      <th>96</th>\n      <td>97</td>\n      <td>86544.37301</td>\n      <td>326991.3852</td>\n      <td>30241.22945</td>\n      <td>4926.966322</td>\n      <td>167.627814</td>\n      <td>68.409974</td>\n      <td>648.144360</td>\n      <td>24916.44335</td>\n      <td>25.280435</td>\n      <td>...</td>\n      <td>0.316780</td>\n      <td>0.315620</td>\n      <td>0.314637</td>\n      <td>0.314143</td>\n      <td>0.313890</td>\n      <td>0.313427</td>\n      <td>0.312940</td>\n      <td>0.313147</td>\n      <td>0.314017</td>\n      <td>0.315663</td>\n    </tr>\n    <tr>\n      <th>97</th>\n      <td>98</td>\n      <td>97208.08453</td>\n      <td>355238.6041</td>\n      <td>28524.37410</td>\n      <td>5143.061336</td>\n      <td>163.384072</td>\n      <td>82.881314</td>\n      <td>628.353692</td>\n      <td>26068.43071</td>\n      <td>30.510870</td>\n      <td>...</td>\n      <td>0.280483</td>\n      <td>0.279843</td>\n      <td>0.279640</td>\n      <td>0.279717</td>\n      <td>0.279877</td>\n      <td>0.279400</td>\n      <td>0.278517</td>\n      <td>0.277797</td>\n      <td>0.277193</td>\n      <td>0.277050</td>\n    </tr>\n    <tr>\n      <th>98</th>\n      <td>99</td>\n      <td>79851.91120</td>\n      <td>349803.0921</td>\n      <td>31106.48359</td>\n      <td>5743.805476</td>\n      <td>135.799748</td>\n      <td>56.569786</td>\n      <td>398.781950</td>\n      <td>22224.03359</td>\n      <td>22.665217</td>\n      <td>...</td>\n      <td>0.294737</td>\n      <td>0.294613</td>\n      <td>0.294897</td>\n      <td>0.295330</td>\n      <td>0.295707</td>\n      <td>0.295100</td>\n      <td>0.293843</td>\n      <td>0.293060</td>\n      <td>0.292703</td>\n      <td>0.292727</td>\n    </tr>\n    <tr>\n      <th>99</th>\n      <td>100</td>\n      <td>98562.54788</td>\n      <td>359232.5453</td>\n      <td>26618.08441</td>\n      <td>5051.220955</td>\n      <td>135.799748</td>\n      <td>89.459196</td>\n      <td>527.421288</td>\n      <td>26646.64402</td>\n      <td>32.254348</td>\n      <td>...</td>\n      <td>0.297890</td>\n      <td>0.297577</td>\n      <td>0.297727</td>\n      <td>0.298143</td>\n      <td>0.298627</td>\n      <td>0.298403</td>\n      <td>0.297723</td>\n      <td>0.297373</td>\n      <td>0.297323</td>\n      <td>0.297500</td>\n    </tr>\n    <tr>\n      <th>100</th>\n      <td>101</td>\n      <td>90976.32454</td>\n      <td>354272.6200</td>\n      <td>29247.97914</td>\n      <td>4825.401666</td>\n      <td>167.627814</td>\n      <td>56.569786</td>\n      <td>534.348022</td>\n      <td>26270.41694</td>\n      <td>22.665217</td>\n      <td>...</td>\n      <td>0.311557</td>\n      <td>0.311003</td>\n      <td>0.310773</td>\n      <td>0.311040</td>\n      <td>0.311480</td>\n      <td>0.311333</td>\n      <td>0.310837</td>\n      <td>0.310460</td>\n      <td>0.310147</td>\n      <td>0.310750</td>\n    </tr>\n  </tbody>\n</table>\n<p>101 rows × 2168 columns</p>\n</div>"
          },
          "metadata": {}
        }
      ]
    },
    {
      "cell_type": "code",
      "source": [
        "#checking for null values in test dataset\n",
        "emt_col = df_test.isnull().sum()\n",
        "tot_val = emt_col.sum()\n",
        "\n",
        "print(emt_col)\n",
        "print(tot_val)"
      ],
      "metadata": {
        "execution": {
          "iopub.status.busy": "2023-10-27T14:43:06.099512Z",
          "iopub.execute_input": "2023-10-27T14:43:06.100398Z",
          "iopub.status.idle": "2023-10-27T14:43:06.110421Z",
          "shell.execute_reply.started": "2023-10-27T14:43:06.100368Z",
          "shell.execute_reply": "2023-10-27T14:43:06.109513Z"
        },
        "trusted": true,
        "id": "oTPZP4h5H3RK",
        "outputId": "34a2531f-8ff3-413a-f963-c59f7c9ccaba"
      },
      "execution_count": null,
      "outputs": [
        {
          "name": "stdout",
          "text": "Id         0\nA          0\nB          0\nC          0\nD          0\n          ..\n2496 nm    0\n2497 nm    0\n2498 nm    0\n2499 nm    0\n2500 nm    0\nLength: 2168, dtype: int64\n0\n",
          "output_type": "stream"
        }
      ]
    },
    {
      "cell_type": "code",
      "source": [
        "#changing the test data according to the training data\n",
        "X_test = df_test.iloc[:,1:18]"
      ],
      "metadata": {
        "id": "mBa1SW_SKmMN"
      },
      "execution_count": null,
      "outputs": []
    },
    {
      "cell_type": "code",
      "source": [
        "#trained the models on the whole data and saved the predictions of test data"
      ],
      "metadata": {
        "id": "3CrAqMrMH3RK"
      },
      "execution_count": null,
      "outputs": []
    },
    {
      "cell_type": "code",
      "source": [
        "model = LinearRegression()\n",
        "model.fit(X_train, y_train)\n",
        "prediction1 = model.predict(X_test)"
      ],
      "metadata": {
        "execution": {
          "iopub.status.busy": "2023-10-27T14:43:54.736507Z",
          "iopub.execute_input": "2023-10-27T14:43:54.737281Z",
          "iopub.status.idle": "2023-10-27T14:43:54.749391Z",
          "shell.execute_reply.started": "2023-10-27T14:43:54.737243Z",
          "shell.execute_reply": "2023-10-27T14:43:54.748605Z"
        },
        "trusted": true,
        "id": "LOcPqXXfH3RK"
      },
      "execution_count": null,
      "outputs": []
    },
    {
      "cell_type": "code",
      "source": [
        "model = RandomForestRegressor(n_estimators=100, random_state=42)\n",
        "model.fit(X_train, y_train)\n",
        "prediction2 = model.predict(X_test)"
      ],
      "metadata": {
        "execution": {
          "iopub.status.busy": "2023-10-27T14:43:54.907282Z",
          "iopub.execute_input": "2023-10-27T14:43:54.907664Z",
          "iopub.status.idle": "2023-10-27T14:43:55.289395Z",
          "shell.execute_reply.started": "2023-10-27T14:43:54.907633Z",
          "shell.execute_reply": "2023-10-27T14:43:55.288655Z"
        },
        "trusted": true,
        "id": "e7r4V19wH3RK"
      },
      "execution_count": null,
      "outputs": []
    },
    {
      "cell_type": "code",
      "source": [
        "model = xgb.XGBRegressor(objective='reg:squarederror', n_estimators=100, random_state=42)\n",
        "model.fit(X_train, y_train)\n",
        "prediction3 = model.predict(X_test)"
      ],
      "metadata": {
        "execution": {
          "iopub.status.busy": "2023-10-27T14:43:55.290795Z",
          "iopub.execute_input": "2023-10-27T14:43:55.291070Z",
          "iopub.status.idle": "2023-10-27T14:43:55.727541Z",
          "shell.execute_reply.started": "2023-10-27T14:43:55.291046Z",
          "shell.execute_reply": "2023-10-27T14:43:55.726777Z"
        },
        "trusted": true,
        "id": "tat7uUVvH3RK"
      },
      "execution_count": null,
      "outputs": []
    },
    {
      "cell_type": "code",
      "source": [
        "predictions = (prediction1 + prediction2 + prediction3)/3"
      ],
      "metadata": {
        "execution": {
          "iopub.status.busy": "2023-10-27T14:43:57.364072Z",
          "iopub.execute_input": "2023-10-27T14:43:57.364433Z",
          "iopub.status.idle": "2023-10-27T14:43:57.368930Z",
          "shell.execute_reply.started": "2023-10-27T14:43:57.364402Z",
          "shell.execute_reply": "2023-10-27T14:43:57.368020Z"
        },
        "trusted": true,
        "id": "fkXXoSpSH3RK"
      },
      "execution_count": null,
      "outputs": []
    },
    {
      "cell_type": "code",
      "source": [
        "predictions"
      ],
      "metadata": {
        "execution": {
          "iopub.status.busy": "2023-10-27T14:43:57.784098Z",
          "iopub.execute_input": "2023-10-27T14:43:57.784730Z",
          "iopub.status.idle": "2023-10-27T14:43:57.799710Z",
          "shell.execute_reply.started": "2023-10-27T14:43:57.784695Z",
          "shell.execute_reply": "2023-10-27T14:43:57.798758Z"
        },
        "trusted": true,
        "id": "Qc7aQShbH3RL",
        "outputId": "ed9768fd-e0e2-411c-a367-4c85064dc1a4"
      },
      "execution_count": null,
      "outputs": [
        {
          "execution_count": 131,
          "output_type": "execute_result",
          "data": {
            "text/plain": "array([[  5.55694173,   2.00749771,   1.13531873,  24.82134861,\n         48.73145244,  30.61536705],\n       [  5.28925383,   2.03126788,   1.22187878,  30.1942328 ,\n         36.12166227,  34.76823388],\n       [  5.25255606,   2.28048466,   1.09315003,  22.96508805,\n         46.09293902,  31.4535484 ],\n       [  5.61658247,   2.09820341,   1.20388072,  33.65063042,\n         34.95290423,  23.13713141],\n       [  5.45112478,   1.97541761,   0.96776137,   8.69226749,\n         57.02809833,  35.40601299],\n       [  5.4369739 ,   1.79115951,   1.01335312,  19.11991052,\n         52.69032463,  30.68909513],\n       [  5.53775036,   2.6951358 ,   1.02651784,   6.05360554,\n         54.06422887,  36.0690814 ],\n       [  5.40547366,   2.2629431 ,   1.13375952,  10.24608491,\n         55.89294116,  33.37065778],\n       [  5.39229515,   1.56532507,   1.0284322 ,  16.94167551,\n         52.06181871,  33.04353278],\n       [  5.24096046,   2.90669693,   0.87934169,   2.2493482 ,\n         62.1062556 ,  34.33739614],\n       [  5.45439271,   2.47886164,   1.02020639,   6.2403888 ,\n         53.88218319,  39.74513556],\n       [  5.48130556,   1.67642416,   1.07701857,  12.58586315,\n         50.60602037,  36.6792617 ],\n       [  5.46284614,   2.33833475,   0.97612225,   6.24129716,\n         59.71714886,  33.52015776],\n       [  5.63669894,   2.13951981,   1.22680066,  19.10632574,\n         50.61626804,  33.91471299],\n       [  5.83077073,   1.67077019,   1.48470564,  52.26786682,\n         22.93636639,  25.13408184],\n       [  5.33744239,   1.35354545,   1.44822952,  52.73586059,\n         20.39149269,  26.91365092],\n       [  5.28994749,   2.72560522,   1.28204313,  30.5054002 ,\n         31.4179809 ,  29.04518283],\n       [  5.10459505,   0.89663885,   1.29168811,  52.19830141,\n         22.62355777,  24.8141353 ],\n       [  5.70302978,   2.24928011,   1.02965664,  12.35011105,\n         54.25590346,  32.44292447],\n       [  5.48464056,   1.37118759,   1.15322442,  20.42805983,\n         47.60563514,  33.65900441],\n       [  5.42844347,   1.9755666 ,   1.01284628,  15.86816213,\n         51.97359469,  27.20697172],\n       [  5.68389275,   2.29854801,   1.36239467,  39.21963185,\n         49.06701742,  28.32836652],\n       [  5.79850716,   1.49514858,   1.42698998,  47.18843497,\n         25.29362435,  27.7751823 ],\n       [  5.6269965 ,   1.70972434,   1.0983782 ,  12.90712781,\n         51.94002425,  35.4161363 ],\n       [  5.45806083,   1.93992093,   1.34513608,  44.8404124 ,\n         30.5505388 ,  23.31435056],\n       [  5.49869023,   1.76932842,   1.18256534,  39.02739577,\n         36.36216084,  29.13801384],\n       [  5.1074197 ,   1.08210696,   1.28276668,  37.4149924 ,\n         34.28869687,  29.2167177 ],\n       [  5.43780371,   1.31170502,   1.22475368,  37.06887722,\n         34.87934405,  27.93457942],\n       [  5.33147122,   3.64647432,   1.29848834,  35.0526974 ,\n         29.08351992,  26.7675278 ],\n       [  5.42661886,   1.07887224,   1.60023101,  53.70332131,\n         21.09424673,  27.68131432],\n       [  5.33373381,   2.57000736,   1.35437187,  27.66608276,\n         33.74360941,  30.73406338],\n       [  5.64684611,   1.42750417,   1.47567609,  49.52555687,\n         22.51272156,  27.32743225],\n       [  5.65655324,   1.45172439,   1.44559765,  49.60011888,\n         22.66328575,  28.08917387],\n       [  5.43000085,   2.84992245,   1.27406004,  26.7705701 ,\n         50.08760402,  29.93983723],\n       [  5.59378574,   1.60064244,   1.50005702,  42.03533391,\n         25.1078163 ,  30.05314052],\n       [  5.61904224,   1.66339525,   1.1159162 ,  12.85505259,\n         52.87033425,  36.32251629],\n       [  5.81272424,   1.97663443,   1.20928268,  37.00549482,\n         37.87396136,  32.16111086],\n       [  6.13029282,   2.10736356,   1.2242184 ,  35.84932297,\n         31.65586111,  28.08064626],\n       [  5.65008035,   2.003809  ,   1.18052806,  29.53389723,\n         34.9645093 ,  32.36011466],\n       [  5.78153653,   1.16183882,   1.40181444,  48.40953729,\n         24.34766605,  27.72378249],\n       [  5.80422133,   1.03296944,   1.62071875,  49.31107603,\n         18.71805554,  31.62764558],\n       [  6.04725341,   1.24307568,   1.14988672,  19.02376929,\n         43.96813312,  32.07159803],\n       [  5.69239927,   1.05141618,   1.31062451,  47.88893834,\n         26.95269984,  22.5511366 ],\n       [  5.21454086,   0.98736418,   1.53734616,  53.83174832,\n         18.44622357,  26.98463334],\n       [  5.92606532,   1.38640336,   1.43556607,  48.67320329,\n         22.47441959,  29.11346957],\n       [  5.65093693,   1.23175558,   1.29694409,  48.70728661,\n         29.34377603,  21.85963973],\n       [  5.45084987,   0.8951761 ,   1.40925045,  56.31091671,\n         20.28177046,  22.27807669],\n       [  5.42804335,   1.75995916,   1.50465661,  38.9937093 ,\n         36.54025387,  32.14164777],\n       [  5.89237253,   1.65587455,   1.06099343,  15.05278804,\n         47.75470225,  31.60185954],\n       [  5.87420284,   0.97999724,   1.52833212,  49.79413499,\n         20.89582672,  30.88957538],\n       [  5.89541736,   1.45853315,   1.3895296 ,  44.04632201,\n         41.23574252,  29.01269037],\n       [  6.23189913,  -1.52123051,   1.72377033,  86.37422356,\n         -9.91149519,  16.51319011],\n       [  6.09897868,   1.85661652,   2.15081949,  74.96102729,\n         -3.81631233,  25.33506592],\n       [  7.27932908,  -0.70834955,   1.80575626,  82.81352883,\n         -9.30984297,  22.1786632 ],\n       [  7.02179106,  -0.61498814,   1.61893627,  84.77242037,\n         -8.74465607,  18.72740339],\n       [  6.71055502,   2.76130516,   2.50640519,  87.13613676,\n         -9.12956556,  18.42810267],\n       [  6.88467203,   3.3809534 ,   2.40244474,  78.75692678,\n          4.21563865,  16.89958112],\n       [  6.71624279,   3.10884364,   2.35981324,  79.69962351,\n          3.04307003,  17.08603346],\n       [  6.15415054,   2.08530404,   2.56528087,  89.30358958,\n        -12.92585269,  20.28958068],\n       [  6.10351652,   0.32804325,   1.84875661,  92.2619486 ,\n        -10.5144152 ,  11.36235411],\n       [  6.08529112,   0.62875266,   1.86759691,  79.04928053,\n         -6.74241322,  10.43577893],\n       [  6.85133338,   1.13283938,   2.12105796,  85.51975966,\n         -0.24197501,  21.41394092],\n       [  6.74295601,   1.03685449,   2.08004268,  88.58731251,\n         -2.66135266,  20.50304231],\n       [  6.85903417,   0.40493177,   1.64009105,  79.1631617 ,\n         -0.26052114,  13.34479166],\n       [  6.88936877,   0.14414158,   1.55992594,  74.98027153,\n          3.28307546,  13.52980311],\n       [  7.37847804,   0.32729539,   1.57423874,  59.88536277,\n         11.31480015,  14.25995743],\n       [  6.12093842,   0.69858095,   1.97055634,  88.13330213,\n         -6.11330654,  12.10390176],\n       [  6.25127539,   1.11084251,   1.89190805,  72.22870857,\n         -2.32688689,  14.71860795],\n       [  6.5743726 ,   0.63461392,   1.69387092,  72.2607619 ,\n          6.91681088,   8.4396752 ],\n       [  6.26579478,   0.98944494,   1.92874636,  87.79943048,\n         -4.94833032,   9.55215136],\n       [  6.56791652,   0.8023082 ,   1.75486766,  73.71922379,\n          6.0310068 ,   7.87143911],\n       [  6.80197244,   1.06649883,   1.70390904,  69.50645484,\n         10.31283485,   7.31668622],\n       [  6.88089156,   1.19872313,   1.76942617,  70.47482975,\n          9.26482171,   7.17405383],\n       [  6.69658473,   1.41768282,   2.02970871,  84.76933575,\n          3.99765845,  17.59515075],\n       [  6.75149743,   0.79702036,   1.66363603,  67.60295777,\n         11.79528157,   9.1888913 ],\n       [  6.04690062,   1.52889664,   2.18161647,  73.73328072,\n          0.45511181,  22.78930432],\n       [  5.94401515,   1.57770059,   2.23037513,  79.10658851,\n         -1.88940921,  21.01703581],\n       [  6.05527913,   1.40855058,   2.24448376,  81.31753945,\n         -2.53979779,  19.00616389],\n       [  5.9883551 ,   1.23317568,   1.86876555,  67.42505666,\n          6.83822683,  21.16877815],\n       [  6.06491742,   1.10633054,   1.93062226,  85.74638234,\n          1.17293845,  18.57975679],\n       [  6.01755731,   1.34797549,   1.91284188,  72.1961749 ,\n          5.33183159,  18.32390534],\n       [  6.5067759 ,   1.44067194,   1.99344029,  76.16011807,\n          9.52881954,  23.20417115],\n       [  6.75721759,   0.46265425,   1.90105583,  67.09519612,\n         -0.10891473,  30.92067983],\n       [  6.93923792,   0.82779727,   1.90665473,  67.92802145,\n         -4.35358468,  26.67704941],\n       [  7.13655545,   0.69677935,   1.54574211,  66.43794595,\n          9.93224741,  23.70559364],\n       [  6.64556552,   0.83529756,   1.64843876,  66.71160635,\n          9.87871064,  22.48957352],\n       [  6.57295919,   1.45593494,   2.0632417 ,  70.64403417,\n          4.49258012,  30.26815396],\n       [  6.3593621 ,   1.27251717,   1.95345548,  73.18426943,\n          2.07868284,  29.76717084],\n       [  6.50844199,   0.73278575,   1.90993122,  78.61949725,\n         -8.22949897,  26.36451092],\n       [  6.59665323,   1.84184801,   1.98346628,  70.47080881,\n          5.13084107,  28.86789457],\n       [  6.55474378,   1.34986953,   1.82287585,  70.97815947,\n          7.28605628,  26.16282121],\n       [  6.38497882,   0.18003092,   1.83743906,  50.35752083,\n         17.81132112,  25.27223733],\n       [  6.31377243,   0.13235006,   1.86572106,  50.00602983,\n         18.82565869,  26.72463085],\n       [  6.89197375,  -0.57779803,   1.43912361,  29.03790244,\n         33.40514137,  21.78068278],\n       [  6.24507945,  -0.47133491,   1.55183414,  29.48906919,\n         34.2439504 ,  20.72961395],\n       [  6.20853787,   3.63788009,   0.92658821,  -1.83065481,\n         62.86485858,  35.90505406],\n       [  6.56298993,   0.98684012,   1.4956405 ,  51.87764225,\n         24.82397368,  20.12050794],\n       [  6.49263428,   0.77923106,   1.47277158,  57.6858547 ,\n         17.50185887,  19.0569138 ],\n       [  6.04489111,  -0.29873247,   1.34972482,  53.45284558,\n         18.38431693,  21.43268338],\n       [  6.59201681,   0.73435245,   1.54215851,  62.12797387,\n         14.20666854,  18.08032075],\n       [  6.62461456,   1.16860475,   1.56258847,  58.37299537,\n         18.38781541,  17.47790492]])"
          },
          "metadata": {}
        }
      ]
    },
    {
      "cell_type": "code",
      "source": [
        "final_prediction = np.sum(predictions, axis = 1)\n",
        "final_prediction"
      ],
      "metadata": {
        "execution": {
          "iopub.status.busy": "2023-10-27T14:43:59.577897Z",
          "iopub.execute_input": "2023-10-27T14:43:59.578264Z",
          "iopub.status.idle": "2023-10-27T14:43:59.585764Z",
          "shell.execute_reply.started": "2023-10-27T14:43:59.578234Z",
          "shell.execute_reply": "2023-10-27T14:43:59.584912Z"
        },
        "trusted": true,
        "id": "lRMXWdDpH3RL",
        "outputId": "4ce0c647-1f5a-42ee-f282-f924ecf1ba35"
      },
      "execution_count": null,
      "outputs": [
        {
          "execution_count": 132,
          "output_type": "execute_result",
          "data": {
            "text/plain": "array([112.86792628, 109.62652944, 109.13776622, 100.65933265,\n       109.52068257, 110.74081681, 105.4463198 , 108.31186013,\n       110.03307943, 107.71999901, 108.82116829, 108.1058935 ,\n       108.25590692, 112.64032619, 109.32456161, 108.18022157,\n       100.26615977, 106.92891648, 108.03090549, 109.70175194,\n       103.4655849 , 125.95985122, 108.97788733, 108.6983874 ,\n       107.44841959, 112.97815444, 108.39270031, 107.85706311,\n       101.180179  , 110.58460448, 101.40186859, 107.91573704,\n       108.90645378, 116.35199469, 105.89077593, 110.44625682,\n       116.03920839, 105.04770512, 105.69293861, 108.82617563,\n       108.11468667, 103.50371626, 105.44721474, 107.00185642,\n       109.0091272 , 108.09033897, 106.62604028, 116.36827006,\n       103.01859035, 109.96206928, 123.03823502,  99.41035744,\n       106.58619556, 104.05908485, 102.78090688, 108.41293923,\n       112.54021672, 112.01362667, 107.47205302, 101.39020391,\n        91.32428693, 116.79695629, 116.28885535, 101.1514892 ,\n       100.3865864 ,  94.74013252, 102.91397306,  93.87445558,\n        96.52010541, 101.5872376 ,  96.74676208,  96.70835623,\n        96.76274616, 116.50612121,  97.79928447, 106.73511059,\n       107.98630597, 107.49221902, 104.52235796, 114.6009478 ,\n       105.13028651, 118.83399688, 107.0278889 ,  99.92517609,\n       109.45486391, 108.20919236, 115.49690408, 114.61545787,\n       105.90566816, 114.89151197, 114.15452612, 101.84352808,\n       103.86816291,  91.97702593,  91.78821221, 107.712264  ,\n       105.86759441, 102.98926429, 100.36572935, 103.28349093,\n       103.59452348])"
          },
          "metadata": {}
        }
      ]
    },
    {
      "cell_type": "code",
      "source": [
        "submission = pd.DataFrame({'Id': df_test['Id'], 'Predicted': final_prediction})"
      ],
      "metadata": {
        "execution": {
          "iopub.status.busy": "2023-10-27T15:07:53.954198Z",
          "iopub.execute_input": "2023-10-27T15:07:53.955042Z",
          "iopub.status.idle": "2023-10-27T15:07:53.960031Z",
          "shell.execute_reply.started": "2023-10-27T15:07:53.955007Z",
          "shell.execute_reply": "2023-10-27T15:07:53.958956Z"
        },
        "trusted": true,
        "id": "A_AbmOpwH3RL"
      },
      "execution_count": null,
      "outputs": []
    },
    {
      "cell_type": "code",
      "source": [
        "submission"
      ],
      "metadata": {
        "execution": {
          "iopub.status.busy": "2023-10-27T15:07:55.350992Z",
          "iopub.execute_input": "2023-10-27T15:07:55.351968Z",
          "iopub.status.idle": "2023-10-27T15:07:55.363866Z",
          "shell.execute_reply.started": "2023-10-27T15:07:55.351930Z",
          "shell.execute_reply": "2023-10-27T15:07:55.362845Z"
        },
        "trusted": true,
        "id": "2s_CwvDPH3RL",
        "outputId": "e206d398-bdbe-48d1-c265-9bd136f3670d"
      },
      "execution_count": null,
      "outputs": [
        {
          "execution_count": 137,
          "output_type": "execute_result",
          "data": {
            "text/plain": "      Id   Predicted\n0      1  112.867926\n1      2  109.626529\n2      3  109.137766\n3      4  100.659333\n4      5  109.520683\n..   ...         ...\n96    97  105.867594\n97    98  102.989264\n98    99  100.365729\n99   100  103.283491\n100  101  103.594523\n\n[101 rows x 2 columns]",
            "text/html": "<div>\n<style scoped>\n    .dataframe tbody tr th:only-of-type {\n        vertical-align: middle;\n    }\n\n    .dataframe tbody tr th {\n        vertical-align: top;\n    }\n\n    .dataframe thead th {\n        text-align: right;\n    }\n</style>\n<table border=\"1\" class=\"dataframe\">\n  <thead>\n    <tr style=\"text-align: right;\">\n      <th></th>\n      <th>Id</th>\n      <th>Predicted</th>\n    </tr>\n  </thead>\n  <tbody>\n    <tr>\n      <th>0</th>\n      <td>1</td>\n      <td>112.867926</td>\n    </tr>\n    <tr>\n      <th>1</th>\n      <td>2</td>\n      <td>109.626529</td>\n    </tr>\n    <tr>\n      <th>2</th>\n      <td>3</td>\n      <td>109.137766</td>\n    </tr>\n    <tr>\n      <th>3</th>\n      <td>4</td>\n      <td>100.659333</td>\n    </tr>\n    <tr>\n      <th>4</th>\n      <td>5</td>\n      <td>109.520683</td>\n    </tr>\n    <tr>\n      <th>...</th>\n      <td>...</td>\n      <td>...</td>\n    </tr>\n    <tr>\n      <th>96</th>\n      <td>97</td>\n      <td>105.867594</td>\n    </tr>\n    <tr>\n      <th>97</th>\n      <td>98</td>\n      <td>102.989264</td>\n    </tr>\n    <tr>\n      <th>98</th>\n      <td>99</td>\n      <td>100.365729</td>\n    </tr>\n    <tr>\n      <th>99</th>\n      <td>100</td>\n      <td>103.283491</td>\n    </tr>\n    <tr>\n      <th>100</th>\n      <td>101</td>\n      <td>103.594523</td>\n    </tr>\n  </tbody>\n</table>\n<p>101 rows × 2 columns</p>\n</div>"
          },
          "metadata": {}
        }
      ]
    },
    {
      "cell_type": "code",
      "source": [
        "submission.to_csv('submission.csv', index=False)"
      ],
      "metadata": {
        "execution": {
          "iopub.status.busy": "2023-10-27T15:07:56.343491Z",
          "iopub.execute_input": "2023-10-27T15:07:56.344330Z",
          "iopub.status.idle": "2023-10-27T15:07:56.350405Z",
          "shell.execute_reply.started": "2023-10-27T15:07:56.344293Z",
          "shell.execute_reply": "2023-10-27T15:07:56.349369Z"
        },
        "trusted": true,
        "id": "rsRa8rk3H3RM"
      },
      "execution_count": null,
      "outputs": []
    },
    {
      "cell_type": "code",
      "source": [],
      "metadata": {
        "id": "ktW6yi8tH3RM"
      },
      "execution_count": null,
      "outputs": []
    }
  ]
}