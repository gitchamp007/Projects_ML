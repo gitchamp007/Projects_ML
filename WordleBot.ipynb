{
  "cells": [
    {
      "cell_type": "markdown",
      "metadata": {
        "id": "5h82u8PnvAQ7"
      },
      "source": [
        "# Game of WORDLE"
      ]
    },
    {
      "cell_type": "markdown",
      "metadata": {
        "id": "CdEH1D8_vAQ9"
      },
      "source": [
        "Wordle is a popular word guessing game. Here are the rules of the game:\n",
        "\n",
        "The game begins with a randomly selected five-letter word.\n",
        "The player must guess the word within ten attempts.\n",
        "\n",
        "After each guess, the player will receive feedback in the form of a list of integers of length 5, containing either 0,1, or 2 (eg [0,0,1,2,1] or [1,1,2,0,1])\n",
        "\n",
        "If the ith integer is:\n",
        "*  0, then the ith letter of the guess is not present in the word\n",
        "* 1, then the ith letter of the guess is correctly positioned\n",
        "* 2, then the ith letter of the guess is present in the word but is misplaced.\n",
        "\n",
        "The player can use this feedback to refine their guesses and work towards solving the word.\n",
        "The game ends when the player correctly guesses the word or uses up all ten attempts.\n",
        "\n",
        "\n",
        "**You have been provided with most of the code to run the wordle game, to take in your guesses and to provide feedback. Your task is to code the ```generate_guess()``` function which takes as input a feedback which is a list of integers of length 5 containing either 0, 1 or 2 as explained earlier and returns the best possible guess of a 5 letter word.** \n",
        "\n",
        "The list of words to choose from is stored in the variable ```self.words```, and the correct word is guaranteed to belong to this list.\n",
        "\n",
        "The game runs your algorithm for 10 different words and prints out your guesses and whether you got the correct answer. Note that, an average human takes just above 4 guesses to solve a wordle. With 10 allowed guesses your algorithm has infact been given a lot of headroom. Try to do better than 10 and optimize as much as you can."
      ]
    },
    {
      "cell_type": "code",
      "source": [
        "from google.colab import drive\n",
        "import sys\n",
        "drive.mount('/content/drive/', force_remount = True)\n",
        "sys.path.append('/content/drive/MyDrive/wordle')\n",
        "from utils import *"
      ],
      "metadata": {
        "id": "6RCXri0ZchpK",
        "colab": {
          "base_uri": "https://localhost:8080/"
        },
        "outputId": "6cd8f8b9-b6e0-43d8-90e7-6ed7f43c8427"
      },
      "execution_count": 1,
      "outputs": [
        {
          "output_type": "stream",
          "name": "stdout",
          "text": [
            "Mounted at /content/drive/\n"
          ]
        }
      ]
    },
    {
      "cell_type": "code",
      "execution_count": 3,
      "metadata": {
        "id": "wn2cqzVovAQ-"
      },
      "outputs": [],
      "source": [
        "class Solver(Wordle):\n",
        "    def __init__(self):\n",
        "        super().__init__()\n",
        "        self.reduced_words = []\n",
        "        self.words.remove(self.words[len(self.words)-1])\n",
        "\n",
        "    def generate_guess(self, feedback=None):\n",
        "\n",
        "        guess = \"hello\"\n",
        "        \n",
        "        if (feedback == None):\n",
        "          return guess\n",
        "        if (self.reduced_words == []):\n",
        "          self.reduced_words = self.words.copy()\n",
        "        \n",
        "        for count, k in enumerate(feedback):\n",
        "          \n",
        "          remove_words = []\n",
        "          \n",
        "          for j in self.reduced_words:\n",
        "            if k == 1 and (self.guesses[-1][count] != j[count]):\n",
        "              remove_words.append(j)\n",
        "            elif k == 0 and (self.guesses[-1][count] in j):\n",
        "              remove_words.append(j)\n",
        "            elif k == 2 and ((self.guesses[-1][count] not in j) or (self.guesses[-1][count] == j[count])):\n",
        "              remove_words.append(j)\n",
        "\n",
        "\n",
        "          for j in remove_words:\n",
        "            self.reduced_words.remove(j)\n",
        "                 \n",
        "        guess = self.reduced_words[-1]\n",
        "        return guess"
      ]
    },
    {
      "cell_type": "code",
      "execution_count": 7,
      "metadata": {
        "id": "l88MLDqfvAQ_",
        "colab": {
          "base_uri": "https://localhost:8080/"
        },
        "outputId": "a99120a3-99a3-4b3f-9652-48df1b78c083"
      },
      "outputs": [
        {
          "output_type": "stream",
          "name": "stdout",
          "text": [
            "Simulating for  10  words.\n",
            "\n",
            "WORD #[ 1 / 10 ]\n",
            "\tGuess # 1 \t: hello \tFeedback:  [0, 0, 0, 0, 0]\n",
            "\tGuess # 2 \t: biffy \tFeedback:  [0, 2, 2, 2, 0]\n",
            "\tGuess # 3 \t: fanin \tFeedback:  [1, 0, 0, 2, 0]\n",
            "\tGuess # 4 \t: frigs \tFeedback:  [1, 1, 1, 0, 0]\n",
            "\tGuess # 5 \t: frizz \tFeedback:  [1, 1, 1, 1, 1]\n",
            "\t\n",
            "Success.\tCorrect word:  frizz \tNumber of guesses:  5\n",
            "\n",
            "\n",
            "WORD #[ 2 / 10 ]\n",
            "\tGuess # 1 \t: hello \tFeedback:  [0, 0, 2, 1, 0]\n",
            "\tGuess # 2 \t: atilt \tFeedback:  [2, 0, 0, 1, 0]\n",
            "\tGuess # 3 \t: rawly \tFeedback:  [0, 1, 2, 1, 1]\n",
            "\tGuess # 4 \t: wanly \tFeedback:  [1, 1, 1, 1, 1]\n",
            "\t\n",
            "Success.\tCorrect word:  wanly \tNumber of guesses:  4\n",
            "\n",
            "\n",
            "WORD #[ 3 / 10 ]\n",
            "\tGuess # 1 \t: hello \tFeedback:  [0, 0, 0, 0, 0]\n",
            "\tGuess # 2 \t: biffy \tFeedback:  [0, 0, 2, 2, 2]\n",
            "\tGuess # 3 \t: frays \tFeedback:  [1, 1, 1, 1, 1]\n",
            "\t\n",
            "Success.\tCorrect word:  frays \tNumber of guesses:  3\n",
            "\n",
            "\n",
            "WORD #[ 4 / 10 ]\n",
            "\tGuess # 1 \t: hello \tFeedback:  [0, 2, 2, 1, 2]\n",
            "\tGuess # 2 \t: roble \tFeedback:  [0, 2, 0, 1, 1]\n",
            "\tGuess # 3 \t: anole \tFeedback:  [1, 1, 1, 1, 1]\n",
            "\t\n",
            "Success.\tCorrect word:  anole \tNumber of guesses:  3\n",
            "\n",
            "\n",
            "WORD #[ 5 / 10 ]\n",
            "\tGuess # 1 \t: hello \tFeedback:  [2, 0, 0, 0, 1]\n",
            "\tGuess # 2 \t: shmoo \tFeedback:  [1, 1, 1, 1, 1]\n",
            "\t\n",
            "Success.\tCorrect word:  shmoo \tNumber of guesses:  2\n",
            "\n",
            "\n",
            "WORD #[ 6 / 10 ]\n",
            "\tGuess # 1 \t: hello \tFeedback:  [0, 0, 0, 0, 0]\n",
            "\tGuess # 2 \t: biffy \tFeedback:  [0, 0, 0, 0, 0]\n",
            "\tGuess # 3 \t: pasts \tFeedback:  [0, 1, 2, 1, 1]\n",
            "\tGuess # 4 \t: cants \tFeedback:  [0, 1, 0, 1, 1]\n",
            "\tGuess # 5 \t: marts \tFeedback:  [0, 1, 1, 1, 1]\n",
            "\tGuess # 6 \t: warts \tFeedback:  [0, 1, 1, 1, 1]\n",
            "\tGuess # 7 \t: tarts \tFeedback:  [1, 1, 1, 1, 1]\n",
            "\t\n",
            "Success.\tCorrect word:  tarts \tNumber of guesses:  7\n",
            "\n",
            "\n",
            "WORD #[ 7 / 10 ]\n",
            "\tGuess # 1 \t: hello \tFeedback:  [0, 0, 0, 0, 0]\n",
            "\tGuess # 2 \t: biffy \tFeedback:  [0, 0, 0, 0, 0]\n",
            "\tGuess # 3 \t: pasts \tFeedback:  [0, 2, 0, 0, 0]\n",
            "\tGuess # 4 \t: unarc \tFeedback:  [1, 1, 2, 0, 0]\n",
            "\tGuess # 5 \t: unman \tFeedback:  [1, 1, 1, 1, 1]\n",
            "\t\n",
            "Success.\tCorrect word:  unman \tNumber of guesses:  5\n",
            "\n",
            "\n",
            "WORD #[ 8 / 10 ]\n",
            "\tGuess # 1 \t: hello \tFeedback:  [0, 0, 0, 0, 1]\n",
            "\tGuess # 2 \t: doggo \tFeedback:  [0, 2, 0, 0, 1]\n",
            "\tGuess # 3 \t: primo \tFeedback:  [0, 2, 2, 0, 1]\n",
            "\tGuess # 4 \t: nitro \tFeedback:  [0, 2, 1, 2, 1]\n",
            "\tGuess # 5 \t: ratio \tFeedback:  [1, 1, 1, 1, 1]\n",
            "\t\n",
            "Success.\tCorrect word:  ratio \tNumber of guesses:  5\n",
            "\n",
            "\n",
            "WORD #[ 9 / 10 ]\n",
            "\tGuess # 1 \t: hello \tFeedback:  [0, 2, 0, 0, 2]\n",
            "\tGuess # 2 \t: osier \tFeedback:  [2, 0, 0, 2, 2]\n",
            "\tGuess # 3 \t: krone \tFeedback:  [0, 1, 1, 1, 1]\n",
            "\tGuess # 4 \t: crone \tFeedback:  [1, 1, 1, 1, 1]\n",
            "\t\n",
            "Success.\tCorrect word:  crone \tNumber of guesses:  4\n",
            "\n",
            "\n",
            "WORD #[ 10 / 10 ]\n",
            "\tGuess # 1 \t: hello \tFeedback:  [1, 2, 0, 0, 0]\n",
            "\tGuess # 2 \t: hazer \tFeedback:  [1, 0, 0, 1, 0]\n",
            "\tGuess # 3 \t: hived \tFeedback:  [1, 1, 0, 1, 2]\n",
            "\tGuess # 4 \t: hides \tFeedback:  [1, 1, 1, 1, 1]\n",
            "\t\n",
            "Success.\tCorrect word:  hides \tNumber of guesses:  4\n",
            "\n",
            "\n"
          ]
        }
      ],
      "source": [
        "game = Game(Solver, N=10)\n",
        "game.run()"
      ]
    },
    {
      "cell_type": "code",
      "execution_count": null,
      "metadata": {
        "id": "vW097vHbvAQ_"
      },
      "outputs": [],
      "source": []
    }
  ],
  "metadata": {
    "kernelspec": {
      "display_name": "base",
      "language": "python",
      "name": "python3"
    },
    "language_info": {
      "codemirror_mode": {
        "name": "ipython",
        "version": 3
      },
      "file_extension": ".py",
      "mimetype": "text/x-python",
      "name": "python",
      "nbconvert_exporter": "python",
      "pygments_lexer": "ipython3",
      "version": "3.10.9"
    },
    "orig_nbformat": 4,
    "colab": {
      "provenance": []
    }
  },
  "nbformat": 4,
  "nbformat_minor": 0
}